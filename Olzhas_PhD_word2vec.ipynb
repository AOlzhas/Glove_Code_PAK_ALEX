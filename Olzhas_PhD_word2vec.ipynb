{
  "nbformat": 4,
  "nbformat_minor": 0,
  "metadata": {
    "colab": {
      "name": "Olzhas_PhD_word2vec.ipynb",
      "provenance": [],
      "collapsed_sections": []
    },
    "kernelspec": {
      "name": "python3",
      "display_name": "Python 3"
    }
  },
  "cells": [
    {
      "cell_type": "markdown",
      "metadata": {
        "id": "iUJveflYhCG3",
        "colab_type": "text"
      },
      "source": [
        "### Olzhas Akylbekov"
      ]
    },
    {
      "cell_type": "markdown",
      "metadata": {
        "id": "-dkKF3_yhYFE",
        "colab_type": "text"
      },
      "source": [
        "*Importing* *libraries*"
      ]
    },
    {
      "cell_type": "markdown",
      "metadata": {
        "id": "FqjGJIMzhWRq",
        "colab_type": "text"
      },
      "source": [
        ""
      ]
    },
    {
      "cell_type": "code",
      "metadata": {
        "id": "Kx5X-m5AK2c9",
        "colab_type": "code",
        "colab": {}
      },
      "source": [
        "import torch  # PyTorch is an free ML library developed by Facebook. It is mostly used to natural language processing purposes\n",
        "from torch.autograd import Variable #A Variable wraps a Tensor which supports nearly all the API’s defined by a Tensor\n",
        "import numpy as np # This is an open-source module for python that provides general mathematical and numerical operations in the form of pre-compiled, fast functions\n",
        "import torch.functional as F #\n",
        "import torch.nn.functional as F #Neural networks can be constructed using the torch.nn package\n",
        "import matplotlib.pyplot as plt # for plotting the result\n",
        "from sklearn.decomposition import PCA # reducing dimensions\n",
        "from sklearn.manifold import TSNE\n"
      ],
      "execution_count": 0,
      "outputs": []
    },
    {
      "cell_type": "markdown",
      "metadata": {
        "id": "wOvnCz3plgJw",
        "colab_type": "text"
      },
      "source": [
        "***Assign our text  to corpus from Wiki from*** https://en.wikipedia.org/wiki/History_of_Kazakhstan  ***the part - \"Internal Soviet migration\"***"
      ]
    },
    {
      "cell_type": "code",
      "metadata": {
        "id": "-DKzGdnoIsAV",
        "colab_type": "code",
        "colab": {}
      },
      "source": [
        "corpus = [\"Many Soviet citizens from the western regions of the USSR and a great deal of Soviet industry relocated to the Kazakh SSR during World War II, when Axis armies captured or threatened to capture western Soviet industrial centres. Groups of Crimean Tatars, Germans, and Muslims from the North Caucasus were deported to the Kazakh SSR during the war because it was feared that they would collaborate or had collaborated with the Germans. Many Poles from eastern Poland were deported to the Kazakh SSR, and local people shared their food with the new arrivals. \"\n",
        "\"Many more non-Kazakhs arrived between 1953 and 1965, during the Virgin Lands Campaign of Soviet Premier Nikita Khrushchev (in office 1958–1964). That program saw huge tracts of Kazakh SSR grazing land cultivated for wheat and other cereal grains. More settlement occurred in the late 1960s and 1970s, when the Soviet government paid bonuses to workers participating in a program to relocate Soviet industry closer to Central Asia's coal, gas, and oil deposits. By the 1970s the Kazakh SSR was the only Soviet republic in which the eponymous nationality was a minority, due to immigration and the decimation of the nomadic Kazakh population.\"]"
      ],
      "execution_count": 0,
      "outputs": []
    },
    {
      "cell_type": "markdown",
      "metadata": {
        "id": "F5h_edRVz61s",
        "colab_type": "text"
      },
      "source": [
        "Tokening the words"
      ]
    },
    {
      "cell_type": "code",
      "metadata": {
        "id": "Fn2cMtniJigl",
        "colab_type": "code",
        "outputId": "dda23695-b1f6-4252-bdb2-b71577ac129b",
        "colab": {
          "base_uri": "https://localhost:8080/",
          "height": 187
        }
      },
      "source": [
        "tokens = []\n",
        "for i in range (len(corpus)):\n",
        "    sents = corpus[i].split(\".\")    \n",
        "    for j in range(len(sents)):\n",
        "        tokens = tokens + sents[j].lower().split(\" \")\n",
        "my_dict=tokens\n",
        "my_dict[10:20]"
      ],
      "execution_count": 122,
      "outputs": [
        {
          "output_type": "execute_result",
          "data": {
            "text/plain": [
              "['and',\n",
              " 'a',\n",
              " 'great',\n",
              " 'deal',\n",
              " 'of',\n",
              " 'soviet',\n",
              " 'industry',\n",
              " 'relocated',\n",
              " 'to',\n",
              " 'the']"
            ]
          },
          "metadata": {
            "tags": []
          },
          "execution_count": 122
        }
      ]
    },
    {
      "cell_type": "markdown",
      "metadata": {
        "id": "LIZUGTE_zhA_",
        "colab_type": "text"
      },
      "source": [
        "Creating functions to convert the words to index and vice versa"
      ]
    },
    {
      "cell_type": "code",
      "metadata": {
        "id": "ko9yyhRNoUH4",
        "colab_type": "code",
        "colab": {}
      },
      "source": [
        "def word2idx(token):\n",
        "    index = my_dict.index(token)\n",
        "    return index\n",
        "def idx2word(index):\n",
        "    word = my_dict[index]\n",
        "    return word"
      ],
      "execution_count": 0,
      "outputs": []
    },
    {
      "cell_type": "markdown",
      "metadata": {
        "id": "DqYhu395zCBQ",
        "colab_type": "text"
      },
      "source": [
        "Showing the index of the word **citizens**:"
      ]
    },
    {
      "cell_type": "code",
      "metadata": {
        "id": "uXY1WZLfx_gF",
        "colab_type": "code",
        "colab": {
          "base_uri": "https://localhost:8080/",
          "height": 34
        },
        "outputId": "f96704da-abd8-4057-e7e2-1a34f8424c5a"
      },
      "source": [
        "word2idx(\"citizens\")"
      ],
      "execution_count": 124,
      "outputs": [
        {
          "output_type": "execute_result",
          "data": {
            "text/plain": [
              "2"
            ]
          },
          "metadata": {
            "tags": []
          },
          "execution_count": 124
        }
      ]
    },
    {
      "cell_type": "markdown",
      "metadata": {
        "id": "C95ZrenHzLzz",
        "colab_type": "text"
      },
      "source": [
        "Showing the word with **index 6**:"
      ]
    },
    {
      "cell_type": "code",
      "metadata": {
        "id": "fWSWNdIrm10K",
        "colab_type": "code",
        "colab": {
          "base_uri": "https://localhost:8080/",
          "height": 34
        },
        "outputId": "333ba0df-3f40-4b91-918f-10b7c30c29c1"
      },
      "source": [
        "idx2word(6)"
      ],
      "execution_count": 125,
      "outputs": [
        {
          "output_type": "execute_result",
          "data": {
            "text/plain": [
              "'regions'"
            ]
          },
          "metadata": {
            "tags": []
          },
          "execution_count": 125
        }
      ]
    },
    {
      "cell_type": "markdown",
      "metadata": {
        "id": "Bx9EDSTo0NsG",
        "colab_type": "text"
      },
      "source": [
        "Creating the Co-occurance matrix calcilation by numpy "
      ]
    },
    {
      "cell_type": "code",
      "metadata": {
        "id": "YIk4B5tRzLdV",
        "colab_type": "code",
        "colab": {
          "base_uri": "https://localhost:8080/",
          "height": 1000
        },
        "outputId": "7ade096d-2834-48ab-bcdf-064e880879b3"
      },
      "source": [
        "CoM=np.zeros((len(my_dict),len(my_dict)))\n",
        "s = len(tokens)-1\n",
        "for idx in range(s):\n",
        "  index2=word2idx(tokens[idx+1])\n",
        "  index1 = word2idx(tokens[idx])\n",
        "  print(tokens[idx],tokens[idx+1])\n",
        "  CoM[index1,index2] +=1\n",
        "\n",
        "print ('Shape of Co-occurance Matrix ', CoM.shape)"
      ],
      "execution_count": 126,
      "outputs": [
        {
          "output_type": "stream",
          "text": [
            "many soviet\n",
            "soviet citizens\n",
            "citizens from\n",
            "from the\n",
            "the western\n",
            "western regions\n",
            "regions of\n",
            "of the\n",
            "the ussr\n",
            "ussr and\n",
            "and a\n",
            "a great\n",
            "great deal\n",
            "deal of\n",
            "of soviet\n",
            "soviet industry\n",
            "industry relocated\n",
            "relocated to\n",
            "to the\n",
            "the kazakh\n",
            "kazakh ssr\n",
            "ssr during\n",
            "during world\n",
            "world war\n",
            "war ii,\n",
            "ii, when\n",
            "when axis\n",
            "axis armies\n",
            "armies captured\n",
            "captured or\n",
            "or threatened\n",
            "threatened to\n",
            "to capture\n",
            "capture western\n",
            "western soviet\n",
            "soviet industrial\n",
            "industrial centres\n",
            "centres \n",
            " groups\n",
            "groups of\n",
            "of crimean\n",
            "crimean tatars,\n",
            "tatars, germans,\n",
            "germans, and\n",
            "and muslims\n",
            "muslims from\n",
            "from the\n",
            "the north\n",
            "north caucasus\n",
            "caucasus were\n",
            "were deported\n",
            "deported to\n",
            "to the\n",
            "the kazakh\n",
            "kazakh ssr\n",
            "ssr during\n",
            "during the\n",
            "the war\n",
            "war because\n",
            "because it\n",
            "it was\n",
            "was feared\n",
            "feared that\n",
            "that they\n",
            "they would\n",
            "would collaborate\n",
            "collaborate or\n",
            "or had\n",
            "had collaborated\n",
            "collaborated with\n",
            "with the\n",
            "the germans\n",
            "germans \n",
            " many\n",
            "many poles\n",
            "poles from\n",
            "from eastern\n",
            "eastern poland\n",
            "poland were\n",
            "were deported\n",
            "deported to\n",
            "to the\n",
            "the kazakh\n",
            "kazakh ssr,\n",
            "ssr, and\n",
            "and local\n",
            "local people\n",
            "people shared\n",
            "shared their\n",
            "their food\n",
            "food with\n",
            "with the\n",
            "the new\n",
            "new arrivals\n",
            "arrivals \n",
            " many\n",
            "many more\n",
            "more non-kazakhs\n",
            "non-kazakhs arrived\n",
            "arrived between\n",
            "between 1953\n",
            "1953 and\n",
            "and 1965,\n",
            "1965, during\n",
            "during the\n",
            "the virgin\n",
            "virgin lands\n",
            "lands campaign\n",
            "campaign of\n",
            "of soviet\n",
            "soviet premier\n",
            "premier nikita\n",
            "nikita khrushchev\n",
            "khrushchev (in\n",
            "(in office\n",
            "office 1958–1964)\n",
            "1958–1964) \n",
            " that\n",
            "that program\n",
            "program saw\n",
            "saw huge\n",
            "huge tracts\n",
            "tracts of\n",
            "of kazakh\n",
            "kazakh ssr\n",
            "ssr grazing\n",
            "grazing land\n",
            "land cultivated\n",
            "cultivated for\n",
            "for wheat\n",
            "wheat and\n",
            "and other\n",
            "other cereal\n",
            "cereal grains\n",
            "grains \n",
            " more\n",
            "more settlement\n",
            "settlement occurred\n",
            "occurred in\n",
            "in the\n",
            "the late\n",
            "late 1960s\n",
            "1960s and\n",
            "and 1970s,\n",
            "1970s, when\n",
            "when the\n",
            "the soviet\n",
            "soviet government\n",
            "government paid\n",
            "paid bonuses\n",
            "bonuses to\n",
            "to workers\n",
            "workers participating\n",
            "participating in\n",
            "in a\n",
            "a program\n",
            "program to\n",
            "to relocate\n",
            "relocate soviet\n",
            "soviet industry\n",
            "industry closer\n",
            "closer to\n",
            "to central\n",
            "central asia's\n",
            "asia's coal,\n",
            "coal, gas,\n",
            "gas, and\n",
            "and oil\n",
            "oil deposits\n",
            "deposits \n",
            " by\n",
            "by the\n",
            "the 1970s\n",
            "1970s the\n",
            "the kazakh\n",
            "kazakh ssr\n",
            "ssr was\n",
            "was the\n",
            "the only\n",
            "only soviet\n",
            "soviet republic\n",
            "republic in\n",
            "in which\n",
            "which the\n",
            "the eponymous\n",
            "eponymous nationality\n",
            "nationality was\n",
            "was a\n",
            "a minority,\n",
            "minority, due\n",
            "due to\n",
            "to immigration\n",
            "immigration and\n",
            "and the\n",
            "the decimation\n",
            "decimation of\n",
            "of the\n",
            "the nomadic\n",
            "nomadic kazakh\n",
            "kazakh population\n",
            "population \n",
            "Shape of Co-occurance Matrix  (202, 202)\n"
          ],
          "name": "stdout"
        }
      ]
    },
    {
      "cell_type": "markdown",
      "metadata": {
        "id": "-BQTqG9c2x0m",
        "colab_type": "text"
      },
      "source": [
        "**Principal component analysis** - reducing dimensions"
      ]
    },
    {
      "cell_type": "code",
      "metadata": {
        "id": "_ysyCv9n2Ryi",
        "colab_type": "code",
        "colab": {}
      },
      "source": [
        "def return_matrix(random_words,dim =15):\n",
        "    word_matrix = np.random.randn(len(random_words),dim)\n",
        "    i = 0\n",
        "    for word in random_words:\n",
        "        word_matrix[i] = word2idx(word)\n",
        "        i +=1\n",
        "    return word_matrix"
      ],
      "execution_count": 0,
      "outputs": []
    },
    {
      "cell_type": "code",
      "metadata": {
        "id": "Ipej9oFS3sJx",
        "colab_type": "code",
        "colab": {
          "base_uri": "https://localhost:8080/",
          "height": 187
        },
        "outputId": "deb823d2-3a39-4e95-846e-6c4443cdd7a1"
      },
      "source": [
        "random_words =[  'regions', 'of', 'the', 'ussr','and', 'a', 'great', 'deal', 'of', 'soviet', 'industry', 'relocated', 'to', 'the']\n",
        "matrix_return = return_matrix(random_words, 10)\n",
        "matrix_return[:10,:10]"
      ],
      "execution_count": 128,
      "outputs": [
        {
          "output_type": "execute_result",
          "data": {
            "text/plain": [
              "array([[ 6.,  6.,  6.,  6.,  6.,  6.,  6.,  6.,  6.,  6.],\n",
              "       [ 7.,  7.,  7.,  7.,  7.,  7.,  7.,  7.,  7.,  7.],\n",
              "       [ 4.,  4.,  4.,  4.,  4.,  4.,  4.,  4.,  4.,  4.],\n",
              "       [ 9.,  9.,  9.,  9.,  9.,  9.,  9.,  9.,  9.,  9.],\n",
              "       [10., 10., 10., 10., 10., 10., 10., 10., 10., 10.],\n",
              "       [11., 11., 11., 11., 11., 11., 11., 11., 11., 11.],\n",
              "       [12., 12., 12., 12., 12., 12., 12., 12., 12., 12.],\n",
              "       [13., 13., 13., 13., 13., 13., 13., 13., 13., 13.],\n",
              "       [ 7.,  7.,  7.,  7.,  7.,  7.,  7.,  7.,  7.,  7.],\n",
              "       [ 1.,  1.,  1.,  1.,  1.,  1.,  1.,  1.,  1.,  1.]])"
            ]
          },
          "metadata": {
            "tags": []
          },
          "execution_count": 128
        }
      ]
    },
    {
      "cell_type": "code",
      "metadata": {
        "id": "SRZDpgzb6JDa",
        "colab_type": "code",
        "colab": {}
      },
      "source": [
        "pca_ = PCA(n_components = 2)  \n",
        "data = pca_.fit_transform(matrix_return)"
      ],
      "execution_count": 0,
      "outputs": []
    },
    {
      "cell_type": "code",
      "metadata": {
        "id": "8ecS5o8L7BT1",
        "colab_type": "code",
        "colab": {
          "base_uri": "https://localhost:8080/",
          "height": 299
        },
        "outputId": "702c9147-db0f-4f1c-efb0-e19e26192bd1"
      },
      "source": [
        "plt.scatter(data[:,0],data[:,1],cmap=plt.get_cmap('Spectral'))\n",
        "for label,x,y in zip(random_words,data[:,0],data[:,1]):\n",
        "    plt.annotate(\n",
        "        label,\n",
        "        xy=(x,y),\n",
        "        xytext=(-20, 20),\n",
        "        textcoords='offset points',\n",
        "        bbox=dict(boxstyle='round,pad=1', fc='pink', alpha=1),\n",
        "        arrowprops=dict(arrowstyle = 'simple', connectionstyle='arc3,rad=0')\n",
        "    )\n",
        "plt.xlabel('PCA1 ')\n",
        "plt.ylabel('PCA2')"
      ],
      "execution_count": 152,
      "outputs": [
        {
          "output_type": "execute_result",
          "data": {
            "text/plain": [
              "Text(0, 0.5, 'PCA2')"
            ]
          },
          "metadata": {
            "tags": []
          },
          "execution_count": 152
        },
        {
          "output_type": "display_data",
          "data": {
            "image/png": "[encoded data removed]",
            "text/plain": [
              "<Figure size 432x288 with 1 Axes>"
            ]
          },
          "metadata": {
            "tags": []
          }
        }
      ]
    },
    {
      "cell_type": "code",
      "metadata": {
        "id": "CDtFJ-UN76Yw",
        "colab_type": "code",
        "colab": {
          "base_uri": "https://localhost:8080/",
          "height": 102
        },
        "outputId": "32ecc55d-615c-4158-8d2a-a0f1699de06a"
      },
      "source": [
        "tsne = TSNE(n_components=2, verbose=1,perplexity=3,method='exact')\n",
        "tsne_results = tsne.fit_transform(matrix_return)"
      ],
      "execution_count": 131,
      "outputs": [
        {
          "output_type": "stream",
          "text": [
            "[t-SNE] Computing pairwise distances...\n",
            "[t-SNE] Computed conditional probabilities for sample 14 / 14\n",
            "[t-SNE] Mean sigma: 5.400876\n",
            "[t-SNE] KL divergence after 250 iterations with early exaggeration: 63.464684\n",
            "[t-SNE] KL divergence after 1000 iterations: 0.071724\n"
          ],
          "name": "stdout"
        }
      ]
    },
    {
      "cell_type": "code",
      "metadata": {
        "id": "Qsh6YTdV8H5E",
        "colab_type": "code",
        "colab": {
          "base_uri": "https://localhost:8080/",
          "height": 314
        },
        "outputId": "d91dd308-b3ce-43ce-f31e-789eb8a6d6c1"
      },
      "source": [
        "plt.scatter(tsne_results[:,0],tsne_results[:,1],cmap=plt.get_cmap('Spectral'))\n",
        "for label,x,y in zip(random_words,tsne_results[:,0],tsne_results[:,1]):\n",
        "    plt.annotate(\n",
        "        label,\n",
        "        xy=(x,y),\n",
        "        xytext=(-20, 20),\n",
        "        textcoords='offset points',\n",
        "        bbox=dict(boxstyle='round,pad=1', fc='pink', alpha=1),\n",
        "        arrowprops=dict(arrowstyle = 'simple', connectionstyle='arc3,rad=0')\n",
        "    )\n",
        "plt.xlabel('TSNE1')\n",
        "plt.ylabel('TSNE2')"
      ],
      "execution_count": 153,
      "outputs": [
        {
          "output_type": "execute_result",
          "data": {
            "text/plain": [
              "Text(0, 0.5, 'TSNE2')"
            ]
          },
          "metadata": {
            "tags": []
          },
          "execution_count": 153
        },
        {
          "output_type": "display_data",
          "data": {
            "image/png": "[encoded data removed]",
            "text/plain": [
              "<Figure size 432x288 with 1 Axes>"
            ]
          },
          "metadata": {
            "tags": []
          }
        }
      ]
    }
  ]
}